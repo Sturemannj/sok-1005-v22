{
 "cells": [
  {
   "cell_type": "code",
   "execution_count": 1,
   "id": "054a06fc",
   "metadata": {},
   "outputs": [],
   "source": [
    "from bs4 import BeautifulSoup\n",
    "import requests\n",
    "import  pandas  as  pd \n",
    "import  matplotlib.pyplot  as  plt\n",
    "from  statsmodels.regression.linear_model  import  OLS\n",
    "import numpy as np\n",
    "\n",
    "\n",
    "\n",
    "# create data\n",
    "def fetch_html_tables(url):\n",
    "    \"Returns a list of tables in the html of url\"\n",
    "    page = requests.get(url)\n",
    "    bs=BeautifulSoup(page.content)\n",
    "    tables=bs.find_all('table')\n",
    "    return tables\n",
    "\n",
    "tables=fetch_html_tables('https://www.norskfamilie.no/barometre/rentebarometer/')\n",
    "table_html=tables[0]\n",
    "\n"
   ]
  },
  {
   "cell_type": "markdown",
   "id": "b221c448",
   "metadata": {},
   "source": [
    "# Scrape the data from the website and store numerical values"
   ]
  },
  {
   "cell_type": "code",
   "execution_count": 2,
   "id": "1d856e07",
   "metadata": {},
   "outputs": [
    {
     "name": "stdout",
     "output_type": "stream",
     "text": [
      "[['', 'Bank', '', 'Navn', 'Nominell', 'Sikkerhetsgebyr', 'Etableringsgebyr', 'Termin', 'Effektiv'], ['1', 'Statens pensjonskasse', '', 'Boliglån inntil 80 %', '1,69', '0', '0', '50', '1,76'], ['2', 'Bulder Bank (Sparebanken Vest)', '', 'Boliglån innenfor 50 %', '1,78', '0', '0', '0', '1,79'], ['3', 'Etne Sparebank', '', '\"Him te Etne\" - lånet', '1,75', '0', '0', '50', '1,83'], ['4', 'Nybygger.no (Sparebanken Øst)', '', 'Boliglån 75%', '1,81', '0', '0', '0', '1,83'], ['5', 'SpareBank 1 Nordmøre', '', 'Grønt førstehjemslån', '1,75', '1200', '0', '75', '1,86'], ['6', 'NORDirekte (Skagerrak Sparebank)', '', 'Boliglån inntil 50%', '1,80', '0', '0', '40', '1,86'], ['7', 'Bulder Bank (Sparebanken Vest)', '', 'Boliglån innenfor 55 %', '1,86', '0', '0', '0', '1,88'], ['8', 'Sunndal Sparebank', '', 'Grønt boliglån', '1,80', '1000', '0', '65', '1,89'], ['9', 'Landkreditt Bank AS', '', 'Grønt Boliglån 50%', '1,89', '500', '0', '0', '1,91'], ['10', 'SpareBank 1 SMN', '', 'Grønt førstehjemslån', '1,\n"
     ]
    }
   ],
   "source": [
    "def html_to_table(html):\n",
    "    \"Returns the table defined in html as a list\"\n",
    "    #defining the table:\n",
    "    table=[]\n",
    "    #iterating over all rows\n",
    "    for row in html.find_all('tr'):\n",
    "        r=[]\n",
    "        #finding all cells in each row:\n",
    "        cells=row.find_all('td')\n",
    "        \n",
    "        #if no cells are found, look for headings\n",
    "        if len(cells)==0:\n",
    "            cells=row.find_all('th')\n",
    "            \n",
    "        #iterate over cells:\n",
    "        for cell in cells:\n",
    "            cell=format(cell)\n",
    "            r.append(cell)\n",
    "        \n",
    "        #append the row to t:\n",
    "        table.append(r)\n",
    "    return table\n",
    "\n",
    "def format(cell):\n",
    "    \"Returns a string after converting bs4 object cell to clean text\"\n",
    "    if cell.content is None:\n",
    "        s=cell.text\n",
    "    elif len(cell.content)==0:\n",
    "        return ''\n",
    "    else:\n",
    "        s=' '.join([str(c) for c in cell.content])\n",
    "        \n",
    "    #here you can add additional characters/strings you want to \n",
    "    #remove, change punctuations or format the string in other\n",
    "    #ways:\n",
    "    s=s.replace('\\xa0','')\n",
    "    s=s.replace('\\n','')\n",
    "    return s\n",
    "\n",
    "table=html_to_table(table_html)\n",
    "\n",
    "#printing top\n",
    "print(str(table)[:1000])"
   ]
  },
  {
   "cell_type": "code",
   "execution_count": 3,
   "id": "43f4857f",
   "metadata": {},
   "outputs": [
    {
     "name": "stdout",
     "output_type": "stream",
     "text": [
      "  Nominal Security fee Establishment fee Term Efficient\n",
      "0    1.69            0                 0   50      1.76\n",
      "1    1.78            0                 0    0      1.79\n",
      "2    1.75            0                 0   50      1.83\n",
      "3    1.81            0                 0    0      1.83\n",
      "4    1.75         1200                 0   75      1.86\n"
     ]
    }
   ],
   "source": [
    "def  save_data_to_csv ( file_name , table ): \n",
    "    \"\"\"\n",
    "    Stores numerical data from the table as csv separated by commas\n",
    "    \n",
    "    \"\"\"\n",
    "     \n",
    "    #initialize all table columns with numerical values\n",
    "    numeric_colums = [\"Nominal\",\"Security fee\",\"Establishment fee\",\"Term\",\"Efficient\"]\n",
    "    \n",
    "    df = pd.DataFrame([row[-5:] for row in table[1:]], columns=numeric_colums)\n",
    "    \n",
    "    #replace the commas in numeric data with \".\"\n",
    "    df[\"Nominal\"] = df[\"Nominal\"].apply(lambda w: w.replace(\",\",\".\"))\n",
    "    df[\"Efficient\"] = df[\"Efficient\"].apply(lambda w: w.replace(\",\",\".\"))\n",
    "    \n",
    "    print(df.head())\n",
    "    \n",
    "    #save the data to csv file\n",
    "    df.to_csv(file_name)\n",
    "\n",
    "         \n",
    "    \n",
    "save_data_to_csv( 'data.csv' , table )"
   ]
  },
  {
   "cell_type": "markdown",
   "id": "499a17f0",
   "metadata": {},
   "source": [
    "# Regression\n",
    "    I used regression to analyze the relationship between Nominal and Efficient variables from the scraped data\n",
    "\n",
    "A bias term which is a variable \"intercept\" equal to one is added to x variable.\n",
    "\n",
    "      y = α+β⋅x\n",
    " \n"
   ]
  },
  {
   "cell_type": "code",
   "execution_count": 4,
   "id": "2cb7e110",
   "metadata": {},
   "outputs": [
    {
     "data": {
      "text/html": [
       "<div>\n",
       "<style scoped>\n",
       "    .dataframe tbody tr th:only-of-type {\n",
       "        vertical-align: middle;\n",
       "    }\n",
       "\n",
       "    .dataframe tbody tr th {\n",
       "        vertical-align: top;\n",
       "    }\n",
       "\n",
       "    .dataframe thead th {\n",
       "        text-align: right;\n",
       "    }\n",
       "</style>\n",
       "<table border=\"1\" class=\"dataframe\">\n",
       "  <thead>\n",
       "    <tr style=\"text-align: right;\">\n",
       "      <th></th>\n",
       "      <th>Unnamed: 0</th>\n",
       "      <th>Nominal</th>\n",
       "      <th>Security fee</th>\n",
       "      <th>Establishment fee</th>\n",
       "      <th>Term</th>\n",
       "      <th>Efficient</th>\n",
       "    </tr>\n",
       "  </thead>\n",
       "  <tbody>\n",
       "    <tr>\n",
       "      <th>0</th>\n",
       "      <td>0</td>\n",
       "      <td>1.69</td>\n",
       "      <td>0</td>\n",
       "      <td>0</td>\n",
       "      <td>50</td>\n",
       "      <td>1.76</td>\n",
       "    </tr>\n",
       "    <tr>\n",
       "      <th>1</th>\n",
       "      <td>1</td>\n",
       "      <td>1.78</td>\n",
       "      <td>0</td>\n",
       "      <td>0</td>\n",
       "      <td>0</td>\n",
       "      <td>1.79</td>\n",
       "    </tr>\n",
       "    <tr>\n",
       "      <th>2</th>\n",
       "      <td>2</td>\n",
       "      <td>1.75</td>\n",
       "      <td>0</td>\n",
       "      <td>0</td>\n",
       "      <td>50</td>\n",
       "      <td>1.83</td>\n",
       "    </tr>\n",
       "    <tr>\n",
       "      <th>3</th>\n",
       "      <td>3</td>\n",
       "      <td>1.81</td>\n",
       "      <td>0</td>\n",
       "      <td>0</td>\n",
       "      <td>0</td>\n",
       "      <td>1.83</td>\n",
       "    </tr>\n",
       "    <tr>\n",
       "      <th>4</th>\n",
       "      <td>4</td>\n",
       "      <td>1.75</td>\n",
       "      <td>1200</td>\n",
       "      <td>0</td>\n",
       "      <td>75</td>\n",
       "      <td>1.86</td>\n",
       "    </tr>\n",
       "  </tbody>\n",
       "</table>\n",
       "</div>"
      ],
      "text/plain": [
       "   Unnamed: 0  Nominal  Security fee  Establishment fee  Term  Efficient\n",
       "0           0     1.69             0                  0    50       1.76\n",
       "1           1     1.78             0                  0     0       1.79\n",
       "2           2     1.75             0                  0    50       1.83\n",
       "3           3     1.81             0                  0     0       1.83\n",
       "4           4     1.75          1200                  0    75       1.86"
      ]
     },
     "execution_count": 4,
     "metadata": {},
     "output_type": "execute_result"
    }
   ],
   "source": [
    "#read the data into pandas dataframe\n",
    "data = pd.read_csv('data.csv')\n",
    "data.head()"
   ]
  },
  {
   "cell_type": "markdown",
   "id": "6aaccb4f",
   "metadata": {},
   "source": [
    "### Scatter plot of \"Nominal\" against \"Efficient\""
   ]
  },
  {
   "cell_type": "code",
   "execution_count": 5,
   "id": "f561f138",
   "metadata": {},
   "outputs": [
    {
     "data": {
      "text/plain": [
       "<matplotlib.legend.Legend at 0x7f2461c47f70>"
      ]
     },
     "execution_count": 5,
     "metadata": {},
     "output_type": "execute_result"
    },
    {
     "data": {
      "image/png": "[encoded data removed]",
      "text/plain": [
       "<Figure size 432x288 with 1 Axes>"
      ]
     },
     "metadata": {
      "needs_background": "light"
     },
     "output_type": "display_data"
    }
   ],
   "source": [
    "fig,ax = plt.subplots()\n",
    "\n",
    "#adding axis lables: \n",
    "ax.set_ylabel ('Nominal') \n",
    "ax.set_xlabel ('Efficient')\n",
    "\n",
    "#plotting the function: \n",
    "ax.scatter( data[ 'Nominal' ],  data['Efficient'],   label = 'Observations' ) \n",
    "ax.legend ( loc = 'lower right' , frameon = False )"
   ]
  },
  {
   "cell_type": "code",
   "execution_count": 6,
   "id": "c9813f38",
   "metadata": {},
   "outputs": [
    {
     "data": {
      "text/html": [
       "<div>\n",
       "<style scoped>\n",
       "    .dataframe tbody tr th:only-of-type {\n",
       "        vertical-align: middle;\n",
       "    }\n",
       "\n",
       "    .dataframe tbody tr th {\n",
       "        vertical-align: top;\n",
       "    }\n",
       "\n",
       "    .dataframe thead th {\n",
       "        text-align: right;\n",
       "    }\n",
       "</style>\n",
       "<table border=\"1\" class=\"dataframe\">\n",
       "  <thead>\n",
       "    <tr style=\"text-align: right;\">\n",
       "      <th></th>\n",
       "      <th>Efficient</th>\n",
       "      <th>intercept</th>\n",
       "    </tr>\n",
       "  </thead>\n",
       "  <tbody>\n",
       "    <tr>\n",
       "      <th>0</th>\n",
       "      <td>1.76</td>\n",
       "      <td>1</td>\n",
       "    </tr>\n",
       "    <tr>\n",
       "      <th>1</th>\n",
       "      <td>1.79</td>\n",
       "      <td>1</td>\n",
       "    </tr>\n",
       "    <tr>\n",
       "      <th>2</th>\n",
       "      <td>1.83</td>\n",
       "      <td>1</td>\n",
       "    </tr>\n",
       "    <tr>\n",
       "      <th>3</th>\n",
       "      <td>1.83</td>\n",
       "      <td>1</td>\n",
       "    </tr>\n",
       "    <tr>\n",
       "      <th>4</th>\n",
       "      <td>1.86</td>\n",
       "      <td>1</td>\n",
       "    </tr>\n",
       "  </tbody>\n",
       "</table>\n",
       "</div>"
      ],
      "text/plain": [
       "   Efficient  intercept\n",
       "0       1.76          1\n",
       "1       1.79          1\n",
       "2       1.83          1\n",
       "3       1.83          1\n",
       "4       1.86          1"
      ]
     },
     "execution_count": 6,
     "metadata": {},
     "output_type": "execute_result"
    }
   ],
   "source": [
    "y = data[\"Nominal\"]\n",
    "\n",
    "x = pd.DataFrame(data[\"Efficient\"] )\n",
    "x['intercept'] = 1 \n",
    "x.head()"
   ]
  },
  {
   "cell_type": "markdown",
   "id": "3bd23ce8",
   "metadata": {},
   "source": [
    "### Estimate \n",
    "Estimate coefficients \n",
    "α\n",
    " and \n",
    "β\n",
    " which best fits the data. Then we use OLS from statsmodels and insert y and x:"
   ]
  },
  {
   "cell_type": "code",
   "execution_count": 7,
   "id": "8681e0c8",
   "metadata": {},
   "outputs": [
    {
     "name": "stdout",
     "output_type": "stream",
     "text": [
      "                            OLS Regression Results                            \n",
      "==============================================================================\n",
      "Dep. Variable:                Nominal   R-squared:                       0.999\n",
      "Model:                            OLS   Adj. R-squared:                  0.999\n",
      "Method:                 Least Squares   F-statistic:                 3.957e+05\n",
      "Date:                Tue, 03 May 2022   Prob (F-statistic):               0.00\n",
      "Time:                        01:24:15   Log-Likelihood:                 892.12\n",
      "No. Observations:                 361   AIC:                            -1780.\n",
      "Df Residuals:                     359   BIC:                            -1772.\n",
      "Df Model:                           1                                         \n",
      "Covariance Type:            nonrobust                                         \n",
      "==============================================================================\n",
      "                 coef    std err          t      P>|t|      [0.025      0.975]\n",
      "------------------------------------------------------------------------------\n",
      "Efficient      0.9599      0.002    629.055      0.000       0.957       0.963\n",
      "intercept      0.0091      0.004      2.170      0.031       0.001       0.017\n",
      "==============================================================================\n",
      "Omnibus:                       87.453   Durbin-Watson:                   1.402\n",
      "Prob(Omnibus):                  0.000   Jarque-Bera (JB):              177.242\n",
      "Skew:                           1.272   Prob(JB):                     3.25e-39\n",
      "Kurtosis:                       5.304   Cond. No.                         12.0\n",
      "==============================================================================\n",
      "\n",
      "Notes:\n",
      "[1] Standard Errors assume that the covariance matrix of the errors is correctly specified.\n"
     ]
    }
   ],
   "source": [
    "model =OLS(y,x ).fit ()\n",
    "\n",
    "print (model.summary ())"
   ]
  },
  {
   "cell_type": "markdown",
   "id": "f6599d1b",
   "metadata": {},
   "source": [
    "### Plot regression line"
   ]
  },
  {
   "cell_type": "code",
   "execution_count": 8,
   "id": "edc2f7f4",
   "metadata": {},
   "outputs": [
    {
     "data": {
      "image/png": "[encoded data removed]",
      "text/plain": [
       "<Figure size 432x288 with 1 Axes>"
      ]
     },
     "execution_count": 8,
     "metadata": {},
     "output_type": "execute_result"
    }
   ],
   "source": [
    "x=np.linspace(min(data[\"Nominal\"]),  max (data[\"Nominal\"]),  100 )\n",
    "\n",
    "regression_line = model.params ['intercept'] + model.params ['Efficient'] * x\n",
    "\n",
    "ax.plot(x,regression_line , color = 'red' ) \n",
    "fig"
   ]
  },
  {
   "cell_type": "markdown",
   "id": "6e77e344",
   "metadata": {},
   "source": [
    "### Result\n",
    "The results of the regression above, Shows that:\n",
    "\n",
    "    α = 0.009\n",
    "    β = 0.9599\n",
    "\n",
    "    The regression line fits the data well.This line represent the least distance on average to the the points\n",
    " in the our data. The distance is measured as square of the vertical difference.writen as:\n",
    "    \n",
    "    y = α+β⋅x\n",
    "    \n",
    "Which is an equation of a straight line with a +ve gradient.\n"
   ]
  },
  {
   "cell_type": "code",
   "execution_count": null,
   "id": "caae3ec6",
   "metadata": {},
   "outputs": [],
   "source": []
  }
 ],
 "metadata": {
  "kernelspec": {
   "display_name": "Python 3 (ipykernel)",
   "language": "python",
   "name": "python3"
  },
  "language_info": {
   "codemirror_mode": {
    "name": "ipython",
    "version": 3
   },
   "file_extension": ".py",
   "mimetype": "text/x-python",
   "name": "python",
   "nbconvert_exporter": "python",
   "pygments_lexer": "ipython3",
   "version": "3.8.8"
  }
 },
 "nbformat": 4,
 "nbformat_minor": 5
}
